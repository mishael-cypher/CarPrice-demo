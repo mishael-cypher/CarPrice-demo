import pandas as pd
import matplotlib.pyplot as plt
import seaborn as sns
from sklearn.model.selection import train_test_split
from sklearn.linear_model import LinearRegression
from sklearn.linear_model import lasso
from sklearn import metrics

car_dataset = pd.read_csv('C:\Users\User\CarPrice-demo\car data.csv')
car_dataset.head()
